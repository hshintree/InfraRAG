{
  "cells": [
    {
      "cell_type": "raw",
      "metadata": {
        "vscode": {
          "languageId": "raw"
        }
      },
      "source": [
        "# InfraRAG Local Database (pgvector + PostgreSQL) Quickstart\n",
        "\n",
        "This notebook shows how to start the local Postgres stack, verify health, and connect to it via pgAdmin and Python. It assumes Docker Desktop is installed.\n",
        "\n",
        "Access endpoints:\n",
        "- Postgres: host `localhost`, port `5433`, db `infra_rag`, user `postgres`, password from `.env`\n",
        "- pgAdmin: http://localhost:5050 (default login: `admin@example.com` / `ChangeMe123!`)\n",
        "\n"
      ]
    },
    {
      "cell_type": "raw",
      "metadata": {
        "vscode": {
          "languageId": "raw"
        }
      },
      "source": [
        "## 1. Environment\n",
        "- Copy `.env.local` to `.env` (or create `.env`) and set:\n",
        "```\n",
        "DB_HOST=localhost\n",
        "DB_PORT=5433\n",
        "DB_NAME=infra_rag\n",
        "DB_USER=postgres\n",
        "DB_PASSWORD=changeme_local_pw\n",
        "PGADMIN_DEFAULT_EMAIL=admin@example.com\n",
        "PGADMIN_DEFAULT_PASSWORD=ChangeMe123!\n",
        "```\n",
        "- Ensure port 5433 is free (compose maps Postgres to 5433).\n",
        "\n",
        "python -m pip install \"psycopg[binary]\" | cat\n",
        "\n"
      ]
    },
    {
      "cell_type": "raw",
      "metadata": {
        "vscode": {
          "languageId": "raw"
        }
      },
      "source": [
        "docker exec infra-postgres psql -U postgres -d infra_rag -tAc \"SELECT extname, extversion FROM pg_extension WHERE extname='vector';\"\n",
        "docker exec infra-postgres psql -U postgres -d infra_rag -tAc \"SELECT data_type, udt_name FROM information_schema.columns WHERE table_name='clauses' AND column_name='embedding';\"\n",
        "docker exec infra-postgres psql -U postgres -d infra_rag -tAc \"SELECT COUNT(*) FROM clauses;\""
      ]
    },
    {
      "cell_type": "raw",
      "metadata": {
        "vscode": {
          "languageId": "raw"
        }
      },
      "source": [
        "## 3. Verify Health\n",
        "- Postgres readiness:\n",
        "```\n",
        "docker exec infra-postgres pg_isready -U postgres -d infra_rag\n",
        "```\n",
        "- pgAdmin: visit http://localhost:5050 and log in with `admin@example.com` / `ChangeMe123!` (or your `.env`).\n",
        "  - Add a new server:\n",
        "    - Name: `InfraRAG Local`\n",
        "    - Host: `infra-postgres`\n",
        "    - Port: `5432`\n",
        "    - User: `postgres`\n",
        "    - Password: from `.env`\n",
        "\n"
      ]
    },
    {
      "cell_type": "raw",
      "metadata": {
        "vscode": {
          "languageId": "raw"
        }
      },
      "source": [
        "## 2. Start/Stop Stack\n",
        "Run these in the repo root:\n",
        "```\n",
        "make -f Makefile.local up\n",
        "make -f Makefile.local ps\n",
        "```\n",
        "Stop and clean data volumes:\n",
        "```\n",
        "make -f Makefile.local down\n",
        "```\n",
        "\n"
      ]
    },
    {
      "cell_type": "raw",
      "metadata": {
        "vscode": {
          "languageId": "raw"
        }
      },
      "source": [
        "## 3. Verify Health\n",
        "- Postgres readiness:\n",
        "```\n",
        "docker exec infra-postgres pg_isready -U postgres -d infra_rag\n",
        "```\n",
        "- pgAdmin: visit http://localhost:5050 and log in with `PGADMIN_DEFAULT_EMAIL`/`PGADMIN_DEFAULT_PASSWORD`.\n",
        "  - Add a new server:\n",
        "    - Host: `infra-postgres`\n",
        "    - Port: `5432`\n",
        "    - User: `postgres`\n",
        "    - Password: from `.env`\n",
        "\n"
      ]
    },
    {
      "cell_type": "code",
      "execution_count": null,
      "metadata": {},
      "outputs": [],
      "source": [
        "import os\n",
        "import psycopg\n",
        "\n",
        "DB_HOST = os.getenv(\"DB_HOST\", \"localhost\")\n",
        "DB_PORT = int(os.getenv(\"DB_PORT\", \"5433\"))\n",
        "DB_NAME = os.getenv(\"DB_NAME\", \"infra_rag\")\n",
        "DB_USER = os.getenv(\"DB_USER\", \"postgres\")\n",
        "DB_PASSWORD = os.getenv(\"DB_PASSWORD\", \"changeme_local_pw\")\n",
        "\n",
        "with psycopg.connect(host=DB_HOST, port=DB_PORT, dbname=DB_NAME, user=DB_USER, password=DB_PASSWORD) as conn:\n",
        "    with conn.cursor() as cur:\n",
        "        cur.execute(\"SELECT version();\")\n",
        "        print(cur.fetchone()[0])\n",
        "        cur.execute(\"SELECT COUNT(*) FROM documents;\")\n",
        "        print(\"documents:\", cur.fetchone()[0])\n",
        "        cur.execute(\"SELECT COUNT(*) FROM clauses;\")\n",
        "        print(\"clauses:\", cur.fetchone()[0])\n",
        "\n"
      ]
    },
    {
      "cell_type": "raw",
      "metadata": {
        "vscode": {
          "languageId": "raw"
        }
      },
      "source": [
        "## 6. External access (any SQL client)\n",
        "- Host: `localhost`\n",
        "- Port: `5433`\n",
        "- Database: `infra_rag`\n",
        "- User: `postgres`\n",
        "- Password: from `.env`\n",
        "\n",
        "Example with `psql` locally:\n",
        "```\n",
        "PGPASSWORD=changeme_local_pw psql -h localhost -p 5433 -U postgres -d infra_rag -c \"\\dt\"\n",
        "```\n",
        "\n"
      ]
    },
    {
      "cell_type": "raw",
      "metadata": {
        "vscode": {
          "languageId": "raw"
        }
      },
      "source": [
        "## 4. Indexing from Python (pgvector only)\n",
        "```python\n",
        "from sentence_transformers import SentenceTransformer\n",
        "from src.ingestion import DocumentIngestionPipeline\n",
        "from src.indexing import PgIndexer\n",
        "\n",
        "pipeline = DocumentIngestionPipeline()\n",
        "indexer = PgIndexer()\n",
        "\n",
        "# Ingest and chunk\n",
        "_doc = pipeline.ingest_document(\"data/129435_sanitized.xml\")\n",
        "_chunks = pipeline.chunk_document(_doc)\n",
        "\n",
        "# Embed and index\n",
        "model = SentenceTransformer(\"sentence-transformers/all-MiniLM-L6-v2\")\n",
        "embs = model.encode([c.content for c in _chunks], normalize_embeddings=True).tolist()\n",
        "\n",
        "indexer.upsert_document(_doc)\n",
        "indexer.index_chunks(_doc, _chunks, embs)\n",
        "print(indexer.get_index_stats())\n",
        "```\n",
        "\n"
      ]
    },
    {
      "cell_type": "raw",
      "metadata": {
        "vscode": {
          "languageId": "raw"
        }
      },
      "source": [
        "## 5. Querying via adapter\n",
        "```python\n",
        "from adapters.retrieval_adapter import search\n",
        "hits = search(\"indemnity cap for environmental liabilities\", top_k=10)\n",
        "for h in hits:\n",
        "    print(h[\"score\"], h[\"section_id\"], h[\"title\"]) \n",
        "```\n",
        "\n"
      ]
    },
    {
      "cell_type": "raw",
      "metadata": {
        "vscode": {
          "languageId": "raw"
        }
      },
      "source": [
        "## 1. Environment\n",
        "- Copy `.env.local` to `.env` (or create `.env`) and set:\n",
        "```\n",
        "DB_HOST=localhost\n",
        "DB_PORT=5433\n",
        "DB_NAME=infra_rag\n",
        "DB_USER=postgres\n",
        "DB_PASSWORD=changeme_local_pw\n",
        "PGADMIN_DEFAULT_EMAIL=admin@local\n",
        "PGADMIN_DEFAULT_PASSWORD=admin\n",
        "```\n",
        "- Ensure port 5433 is free (compose maps Postgres to 5433).\n",
        "\n"
      ]
    }
  ],
  "metadata": {
    "language_info": {
      "name": "python"
    }
  },
  "nbformat": 4,
  "nbformat_minor": 2
}
